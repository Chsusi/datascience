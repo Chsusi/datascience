{
 "cells": [
  {
   "cell_type": "markdown",
   "id": "765c611d-a16f-478f-8f38-dbbf2becc927",
   "metadata": {},
   "source": [
    "# Data Science Tools and Ecosystem"
   ]
  },
  {
   "cell_type": "markdown",
   "id": "66d54ef3-e807-4063-9390-25f43b60ce74",
   "metadata": {},
   "source": [
    "In this notebook, Data Science Tools and Ecosystem are summarized."
   ]
  },
  {
   "cell_type": "markdown",
   "id": "8a4ff3fb-22b3-4d60-92f3-5d41428099c3",
   "metadata": {},
   "source": [
    "Some of the popular languages that Data Scientists use are:\n",
    "1. Python\n",
    "2. R\n",
    "3. SQl"
   ]
  },
  {
   "cell_type": "markdown",
   "id": "f00681f0-8ef1-463f-bae3-d0d13a7590a5",
   "metadata": {},
   "source": [
    "Some of the commonly used libraries used by Data Scientists include:\n",
    "1. TensorFlow.\n",
    "2. NumPy.\n",
    "3. SciPy."
   ]
  },
  {
   "cell_type": "markdown",
   "id": "fe7ecbe1-8ef9-4c31-8450-dd0c396cc572",
   "metadata": {
    "jp-MarkdownHeadingCollapsed": true,
    "tags": []
   },
   "source": [
    "|Data Science Tools |\n",
    "|:---:|\n",
    "|Apache Spark |\n",
    "|Jupyter Notebook |\n",
    "|Apache Hadoop |"
   ]
  },
  {
   "cell_type": "markdown",
   "id": "4347be9c-0fd6-4fa3-a598-464106c66ac2",
   "metadata": {},
   "source": [
    "### Below are a few examples of evaluating arithmetic expressions in Python\n"
   ]
  },
  {
   "cell_type": "code",
   "execution_count": 8,
   "id": "e20fe903-0b51-4607-ab74-b6a71baf891b",
   "metadata": {
    "tags": []
   },
   "outputs": [
    {
     "name": "stdout",
     "output_type": "stream",
     "text": [
      "Result = 17\n"
     ]
    }
   ],
   "source": [
    "# This a simple arithmetic expression to mutiply then add integers\n",
    "result = (3*4)+5\n",
    "print(\"Result =\", result)"
   ]
  },
  {
   "cell_type": "code",
   "execution_count": 10,
   "id": "2a1f1da6-b86d-41ac-bdaf-8518142a604d",
   "metadata": {
    "tags": []
   },
   "outputs": [
    {
     "name": "stdout",
     "output_type": "stream",
     "text": [
      "Result= 3.3333333333333335\n"
     ]
    }
   ],
   "source": [
    "# This will convert 200 minutes to hours by diving by 60\n",
    "hours = (200/60)\n",
    "print(\"Result=\", hours)"
   ]
  },
  {
   "cell_type": "markdown",
   "id": "f79ee429-7b39-48e0-bf80-360c46e61294",
   "metadata": {},
   "source": [
    "**Objectives:**\n",
    "* Popular languages For Data Science.\n",
    "* Commonly used library for Data Science.\n",
    "* Commonly used Data Science tools.\n",
    "* Few examples fo Arthmetic expression in Python."
   ]
  },
  {
   "cell_type": "markdown",
   "id": "979494ed-b1de-41c1-bb82-011bfa3b749a",
   "metadata": {},
   "source": [
    "## Author\n",
    "Sunny Rudresh Sinari"
   ]
  },
  {
   "cell_type": "code",
   "execution_count": null,
   "id": "ce480570-bf36-4253-ab54-f12da061c610",
   "metadata": {},
   "outputs": [],
   "source": []
  }
 ],
 "metadata": {
  "kernelspec": {
   "display_name": "Python",
   "language": "python",
   "name": "conda-env-python-py"
  },
  "language_info": {
   "codemirror_mode": {
    "name": "ipython",
    "version": 3
   },
   "file_extension": ".py",
   "mimetype": "text/x-python",
   "name": "python",
   "nbconvert_exporter": "python",
   "pygments_lexer": "ipython3",
   "version": "3.7.12"
  }
 },
 "nbformat": 4,
 "nbformat_minor": 5
}
